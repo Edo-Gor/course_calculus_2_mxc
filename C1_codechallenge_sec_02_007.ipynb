{
  "cells": [
    {
      "cell_type": "code",
      "execution_count": null,
      "metadata": {
        "id": "xYfsQvXxPsoD"
      },
      "outputs": [],
      "source": [
        "# %% Calculus 2 - Section 2.7\n",
        "#    Code challenge: integration as inverse differentiation\n",
        "\n",
        "# This code pertains to a calculus course provided by Mike X. Cohen on Udemy:\n",
        "#   > https://www.udemy.com/course/pycalc2_x\n",
        "# The code in this repository is developed to solve the exercises provided along\n",
        "# the course, and it has been written partially indepentently and partially\n",
        "# from the code developed by the course instructor.\n"
      ]
    },
    {
      "cell_type": "code",
      "execution_count": null,
      "metadata": {
        "id": "vd_wy4xAQC4E"
      },
      "outputs": [],
      "source": [
        "import numpy             as np\n",
        "import sympy             as sym\n",
        "import matplotlib.pyplot as plt\n",
        "import math\n",
        "\n",
        "from scipy.signal                     import find_peaks\n",
        "from IPython.display                  import display,Math\n",
        "from google.colab                     import files\n",
        "from matplotlib_inline.backend_inline import set_matplotlib_formats\n",
        "set_matplotlib_formats('svg')\n"
      ]
    },
    {
      "cell_type": "code",
      "execution_count": null,
      "metadata": {
        "colab": {
          "base_uri": "https://localhost:8080/",
          "height": 471
        },
        "id": "1BTxy0u1sdh7",
        "outputId": "8528687f-922f-4ba3-9d04-e5f13e1b2b8a"
      },
      "outputs": [],
      "source": [
        "# %% Exercise 0a\n",
        "#    Empirical derivative\n",
        "\n",
        "x = np.linspace(-1,4,501)\n",
        "f = x**2\n",
        "\n",
        "id_zero = np.argmin(abs(x-0))\n",
        "\n",
        "dx = x[1] - x[0]\n",
        "df = np.diff(f) / dx\n",
        "\n",
        "# Plot\n",
        "phi = (1 + np.sqrt(5)) / 2\n",
        "plt.figure(figsize=(5*phi,5))\n",
        "\n",
        "plt.plot(x,f)\n",
        "plt.plot(x[1:],df)\n",
        "plt.axvline(x=0,color='grey',linestyle=':',linewidth=0.8)\n",
        "plt.axhline(y=0,color='grey',linestyle=':',linewidth=0.8)\n",
        "plt.xlim(min(x),max(x))\n",
        "plt.xlabel('x')\n",
        "plt.ylabel(\"f(x) / f'(x)\")\n",
        "plt.title('A function and its derivative')\n",
        "\n",
        "plt.savefig('fig1_codechallenge_07_exercise_0a.png')\n",
        "plt.show()\n",
        "files.download('fig1_codechallenge_07_exercise_0a.png')\n"
      ]
    },
    {
      "cell_type": "code",
      "execution_count": null,
      "metadata": {
        "colab": {
          "base_uri": "https://localhost:8080/"
        },
        "id": "kM2he8JzXlcE",
        "outputId": "d6d1a625-b832-4547-80e4-ec6f58407a3f"
      },
      "outputs": [],
      "source": [
        "# %% Exercise 0b\n",
        "#    A brief digression on cumulative sums\n",
        "\n",
        "v = np.arange(10)\n",
        "print('A vector:')\n",
        "print(v)\n",
        "print()\n",
        "\n",
        "sum_1 = np.sum(v)\n",
        "print('Non-cumulative sum:')\n",
        "print(sum_1)\n",
        "print()\n",
        "\n",
        "sum_2 = np.zeros(len(v),dtype=int)\n",
        "for i in range(len(v)):\n",
        "    sum_2[i] = np.sum(v[:i+1])\n",
        "print('Cumulative sum with for-loop:')\n",
        "print(sum_2)\n",
        "print()\n",
        "\n",
        "sum_3 = np.cumsum(v)\n",
        "print('Cumulative sum:')\n",
        "print(sum_3)\n",
        "print()\n"
      ]
    },
    {
      "cell_type": "code",
      "execution_count": null,
      "metadata": {
        "colab": {
          "base_uri": "https://localhost:8080/",
          "height": 471
        },
        "id": "AKHvfFFXYoAH",
        "outputId": "7553cf52-d82d-4871-f307-6fad5e049f2f"
      },
      "outputs": [],
      "source": [
        "# %% Exercise 0c\n",
        "#    Emprical integral as inverse of (emprical) derivative\n",
        "\n",
        "# Cumulative sum over dx, normalise so that idf(0) = 0, add constant from\n",
        "# original function\n",
        "idf  = np.cumsum(df) * dx\n",
        "idf -= idf[id_zero]\n",
        "idf += f[id_zero]\n",
        "\n",
        "# Plot\n",
        "phi = (1 + np.sqrt(5)) / 2\n",
        "plt.figure(figsize=(5*phi,5))\n",
        "\n",
        "plt.plot(x[1:],idf)\n",
        "plt.plot(x,f,':',linewidth=3)\n",
        "plt.axvline(x=0,color='grey',linestyle=':',linewidth=0.8)\n",
        "plt.axhline(y=0,color='grey',linestyle=':',linewidth=0.8)\n",
        "plt.xlim(min(x),max(x))\n",
        "plt.xlabel('x')\n",
        "plt.ylabel(\"$\\\\int f' dx$\")\n",
        "plt.title('A function and the integral of its derivative')\n",
        "\n",
        "plt.savefig('fig2_codechallenge_07_exercise_0c.png')\n",
        "plt.show()\n",
        "files.download('fig2_codechallenge_07_exercise_0c.png')\n"
      ]
    }
  ],
  "metadata": {
    "colab": {
      "provenance": []
    },
    "kernelspec": {
      "display_name": "Python 3",
      "name": "python3"
    },
    "language_info": {
      "name": "python"
    }
  },
  "nbformat": 4,
  "nbformat_minor": 0
}
