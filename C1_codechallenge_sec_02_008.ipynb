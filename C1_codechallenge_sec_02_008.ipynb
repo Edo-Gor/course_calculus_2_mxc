{
  "cells": [
    {
      "cell_type": "code",
      "execution_count": null,
      "metadata": {
        "id": "xYfsQvXxPsoD"
      },
      "outputs": [],
      "source": [
        "# %% Calculus 2 - Section 2.8\n",
        "#    Code challenge: drawing discrete integrals\n",
        "\n",
        "# This code pertains to a calculus course provided by Mike X. Cohen on Udemy:\n",
        "#   > https://www.udemy.com/course/pycalc2_x\n",
        "# The code in this repository is developed to solve the exercises provided along\n",
        "# the course, and it has been written partially indepentently and partially\n",
        "# from the code developed by the course instructor.\n"
      ]
    },
    {
      "cell_type": "code",
      "execution_count": 1,
      "metadata": {
        "id": "vd_wy4xAQC4E"
      },
      "outputs": [],
      "source": [
        "import numpy             as np\n",
        "import sympy             as sym\n",
        "import matplotlib.pyplot as plt\n",
        "import math\n",
        "\n",
        "from scipy.signal                     import find_peaks\n",
        "from IPython.display                  import display,Math\n",
        "from google.colab                     import files\n",
        "from matplotlib_inline.backend_inline import set_matplotlib_formats\n",
        "set_matplotlib_formats('svg')\n"
      ]
    },
    {
      "cell_type": "code",
      "execution_count": 15,
      "metadata": {
        "id": "_EMkVVUbc0g2"
      },
      "outputs": [],
      "source": [
        "# %% Exercise 1\n",
        "#    Write two python functions to compute the derivative and integral of the\n",
        "#    function shown in the video\n",
        "\n",
        "def df_and_sf(x,f):\n",
        "\n",
        "    # Discrete derivative\n",
        "    dx = x[1] - x[0]\n",
        "    df = np.diff(f) / dx\n",
        "\n",
        "    # Discrete integral\n",
        "    idf = np.cumsum(df) * dx\n",
        "\n",
        "    # Normalise the integral\n",
        "    zero_idx = np.argmin(abs(x-0))\n",
        "    idf     -= idf[zero_idx]\n",
        "    idf     += f[zero_idx]\n",
        "\n",
        "    return df,idf\n",
        "\n",
        "def plot_function():\n",
        "\n",
        "    phi = (1 + np.sqrt(5)) / 2\n",
        "    _,axs = plt.subplots(1,3,figsize=(1.5*5*phi,5))\n",
        "\n",
        "    axs[0].plot(x,f)\n",
        "    axs[0].axvline(x=0,color='grey',linestyle=':',linewidth=0.8)\n",
        "    axs[0].axhline(y=0,color='grey',linestyle=':',linewidth=0.8)\n",
        "    axs[0].set_xlim(min(x),max(x))\n",
        "    axs[0].set(xlabel='$x$',ylabel='$f(x)$',title='Function')\n",
        "\n",
        "    axs[1].plot(x[1:],df)\n",
        "    axs[1].axvline(x=0,color='grey',linestyle=':',linewidth=0.8)\n",
        "    axs[1].axhline(y=0,color='grey',linestyle=':',linewidth=0.8)\n",
        "    axs[1].set_xlim(min(x),max(x))\n",
        "    axs[1].set(xlabel='$x$',ylabel='$f\\'(x)$',title='Discrete derivative')\n",
        "\n",
        "    axs[2].plot(x[1:],idf)\n",
        "    axs[2].plot(x,f,':',linewidth=3)\n",
        "    axs[2].axvline(x=0,color='grey',linestyle=':',linewidth=0.8)\n",
        "    axs[2].axhline(y=0,color='grey',linestyle=':',linewidth=0.8)\n",
        "    axs[2].set_xlim(min(x),max(x))\n",
        "    axs[2].set(xlabel='$x$',ylabel=\"$\\\\int f' dx$\",title='Discrete integral')\n",
        "\n",
        "    plt.tight_layout()\n",
        "\n",
        "    plt.savefig('fig3_codechallenge_08_exercise_1.png')\n",
        "    plt.show()\n"
      ]
    },
    {
      "cell_type": "code",
      "execution_count": null,
      "metadata": {
        "colab": {
          "base_uri": "https://localhost:8080/",
          "height": 490
        },
        "id": "rJq97VfpSX2-",
        "outputId": "5dde2c26-c799-4b28-cd95-30c5861a0700"
      },
      "outputs": [],
      "source": [
        "# %% Exercise 1\n",
        "#    Continue ...\n",
        "\n",
        "x = np.linspace(-1,4,101)\n",
        "f = x**2\n",
        "\n",
        "df,idf = df_and_sf(x,f)\n",
        "plot_function()\n",
        "files.download('fig3_codechallenge_08_exercise_1.png')\n"
      ]
    },
    {
      "cell_type": "code",
      "execution_count": null,
      "metadata": {
        "id": "-0rd1fPlXnc3"
      },
      "outputs": [],
      "source": [
        "\n",
        "\n",
        "# Explore another function\n",
        "\n"
      ]
    },
    {
      "cell_type": "code",
      "execution_count": null,
      "metadata": {
        "colab": {
          "base_uri": "https://localhost:8080/",
          "height": 490
        },
        "id": "RyUMONhjRjtg",
        "outputId": "0c79c683-66bb-4486-8e38-97f69ba2d3d5"
      },
      "outputs": [],
      "source": [
        "# %% Exercise 2\n",
        "#    Explore other functions with the code from the previous exercise\n",
        "\n",
        "x = np.linspace(-1,4,101)\n",
        "f = x**3 + 4\n",
        "\n",
        "df,idf = df_and_sf(x,f)\n",
        "plot_function()\n",
        "files.download('fig3_codechallenge_08_exercise_1.png')\n"
      ]
    },
    {
      "cell_type": "code",
      "execution_count": null,
      "metadata": {
        "colab": {
          "base_uri": "https://localhost:8080/",
          "height": 490
        },
        "id": "Try1Vu3RYDgj",
        "outputId": "89c7224b-5582-4222-d8be-0e391601f890"
      },
      "outputs": [],
      "source": [
        "# %% Exercise 2\n",
        "#    Continue ...\n",
        "\n",
        "x = np.linspace(-np.pi,np.pi,1001)\n",
        "f = x**3 / 10 - np.pi*np.exp(-x**2) + np.sin(4*x)\n",
        "\n",
        "df,idf = df_and_sf(x,f)\n",
        "plot_function()\n",
        "files.download('fig3_codechallenge_08_exercise_1.png')\n"
      ]
    }
  ],
  "metadata": {
    "colab": {
      "provenance": []
    },
    "kernelspec": {
      "display_name": "Python 3",
      "name": "python3"
    },
    "language_info": {
      "name": "python"
    }
  },
  "nbformat": 4,
  "nbformat_minor": 0
}
